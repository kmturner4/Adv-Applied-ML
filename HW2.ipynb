{
  "nbformat": 4,
  "nbformat_minor": 0,
  "metadata": {
    "colab": {
      "provenance": []
    },
    "kernelspec": {
      "name": "python3",
      "display_name": "Python 3"
    },
    "language_info": {
      "name": "python"
    }
  },
  "cells": [
    {
      "cell_type": "code",
      "source": [
        "pip install numpy usearch"
      ],
      "metadata": {
        "colab": {
          "base_uri": "https://localhost:8080/"
        },
        "id": "Ddgg7Lnsebos",
        "outputId": "c52f98c2-a01a-42cb-9c0c-5838ac50e7be"
      },
      "execution_count": 34,
      "outputs": [
        {
          "output_type": "stream",
          "name": "stdout",
          "text": [
            "Requirement already satisfied: numpy in /usr/local/lib/python3.10/dist-packages (1.25.2)\n",
            "Requirement already satisfied: usearch in /usr/local/lib/python3.10/dist-packages (2.9.0)\n",
            "Requirement already satisfied: tqdm in /usr/local/lib/python3.10/dist-packages (from usearch) (4.66.2)\n"
          ]
        }
      ]
    },
    {
      "cell_type": "code",
      "source": [
        "import numpy as np\n",
        "import pandas as pd\n",
        "import torch\n",
        "import xgboost\n",
        "from sklearn import linear_model\n",
        "from sklearn.preprocessing import StandardScaler, MinMaxScaler, QuantileTransformer\n",
        "from scipy.spatial import Delaunay\n",
        "from sklearn.ensemble import RandomForestRegressor\n",
        "from sklearn.model_selection import KFold, GridSearchCV, train_test_split\n",
        "from sklearn.metrics import mean_squared_error as mse\n",
        "from scipy import linalg\n",
        "from scipy.interpolate import interp1d, LinearNDInterpolator, NearestNDInterpolator\n",
        "from sklearn.decomposition import PCA\n",
        "from usearch.index import search, Index, MetricKind, Matches, BatchMatches\n",
        "import usearch\n",
        "from sklearn.neighbors import KNeighborsRegressor\n",
        "\n",
        "from sklearn.base import BaseEstimator, RegressorMixin\n",
        "from sklearn.utils.validation import check_X_y, check_array, check_is_fitted"
      ],
      "metadata": {
        "id": "0FG-yuEV1Je9"
      },
      "execution_count": 103,
      "outputs": []
    },
    {
      "cell_type": "code",
      "execution_count": 36,
      "metadata": {
        "id": "PvnABICpCG1z",
        "colab": {
          "base_uri": "https://localhost:8080/",
          "height": 73
        },
        "outputId": "f80df3bb-9c8e-40d8-f1ff-a4cab73ba0b0"
      },
      "outputs": [
        {
          "output_type": "display_data",
          "data": {
            "text/plain": [
              "<IPython.core.display.HTML object>"
            ],
            "text/html": [
              "\n",
              "     <input type=\"file\" id=\"files-6db3ceed-4729-4198-a469-7499207fcb75\" name=\"files[]\" multiple disabled\n",
              "        style=\"border:none\" />\n",
              "     <output id=\"result-6db3ceed-4729-4198-a469-7499207fcb75\">\n",
              "      Upload widget is only available when the cell has been executed in the\n",
              "      current browser session. Please rerun this cell to enable.\n",
              "      </output>\n",
              "      <script>// Copyright 2017 Google LLC\n",
              "//\n",
              "// Licensed under the Apache License, Version 2.0 (the \"License\");\n",
              "// you may not use this file except in compliance with the License.\n",
              "// You may obtain a copy of the License at\n",
              "//\n",
              "//      http://www.apache.org/licenses/LICENSE-2.0\n",
              "//\n",
              "// Unless required by applicable law or agreed to in writing, software\n",
              "// distributed under the License is distributed on an \"AS IS\" BASIS,\n",
              "// WITHOUT WARRANTIES OR CONDITIONS OF ANY KIND, either express or implied.\n",
              "// See the License for the specific language governing permissions and\n",
              "// limitations under the License.\n",
              "\n",
              "/**\n",
              " * @fileoverview Helpers for google.colab Python module.\n",
              " */\n",
              "(function(scope) {\n",
              "function span(text, styleAttributes = {}) {\n",
              "  const element = document.createElement('span');\n",
              "  element.textContent = text;\n",
              "  for (const key of Object.keys(styleAttributes)) {\n",
              "    element.style[key] = styleAttributes[key];\n",
              "  }\n",
              "  return element;\n",
              "}\n",
              "\n",
              "// Max number of bytes which will be uploaded at a time.\n",
              "const MAX_PAYLOAD_SIZE = 100 * 1024;\n",
              "\n",
              "function _uploadFiles(inputId, outputId) {\n",
              "  const steps = uploadFilesStep(inputId, outputId);\n",
              "  const outputElement = document.getElementById(outputId);\n",
              "  // Cache steps on the outputElement to make it available for the next call\n",
              "  // to uploadFilesContinue from Python.\n",
              "  outputElement.steps = steps;\n",
              "\n",
              "  return _uploadFilesContinue(outputId);\n",
              "}\n",
              "\n",
              "// This is roughly an async generator (not supported in the browser yet),\n",
              "// where there are multiple asynchronous steps and the Python side is going\n",
              "// to poll for completion of each step.\n",
              "// This uses a Promise to block the python side on completion of each step,\n",
              "// then passes the result of the previous step as the input to the next step.\n",
              "function _uploadFilesContinue(outputId) {\n",
              "  const outputElement = document.getElementById(outputId);\n",
              "  const steps = outputElement.steps;\n",
              "\n",
              "  const next = steps.next(outputElement.lastPromiseValue);\n",
              "  return Promise.resolve(next.value.promise).then((value) => {\n",
              "    // Cache the last promise value to make it available to the next\n",
              "    // step of the generator.\n",
              "    outputElement.lastPromiseValue = value;\n",
              "    return next.value.response;\n",
              "  });\n",
              "}\n",
              "\n",
              "/**\n",
              " * Generator function which is called between each async step of the upload\n",
              " * process.\n",
              " * @param {string} inputId Element ID of the input file picker element.\n",
              " * @param {string} outputId Element ID of the output display.\n",
              " * @return {!Iterable<!Object>} Iterable of next steps.\n",
              " */\n",
              "function* uploadFilesStep(inputId, outputId) {\n",
              "  const inputElement = document.getElementById(inputId);\n",
              "  inputElement.disabled = false;\n",
              "\n",
              "  const outputElement = document.getElementById(outputId);\n",
              "  outputElement.innerHTML = '';\n",
              "\n",
              "  const pickedPromise = new Promise((resolve) => {\n",
              "    inputElement.addEventListener('change', (e) => {\n",
              "      resolve(e.target.files);\n",
              "    });\n",
              "  });\n",
              "\n",
              "  const cancel = document.createElement('button');\n",
              "  inputElement.parentElement.appendChild(cancel);\n",
              "  cancel.textContent = 'Cancel upload';\n",
              "  const cancelPromise = new Promise((resolve) => {\n",
              "    cancel.onclick = () => {\n",
              "      resolve(null);\n",
              "    };\n",
              "  });\n",
              "\n",
              "  // Wait for the user to pick the files.\n",
              "  const files = yield {\n",
              "    promise: Promise.race([pickedPromise, cancelPromise]),\n",
              "    response: {\n",
              "      action: 'starting',\n",
              "    }\n",
              "  };\n",
              "\n",
              "  cancel.remove();\n",
              "\n",
              "  // Disable the input element since further picks are not allowed.\n",
              "  inputElement.disabled = true;\n",
              "\n",
              "  if (!files) {\n",
              "    return {\n",
              "      response: {\n",
              "        action: 'complete',\n",
              "      }\n",
              "    };\n",
              "  }\n",
              "\n",
              "  for (const file of files) {\n",
              "    const li = document.createElement('li');\n",
              "    li.append(span(file.name, {fontWeight: 'bold'}));\n",
              "    li.append(span(\n",
              "        `(${file.type || 'n/a'}) - ${file.size} bytes, ` +\n",
              "        `last modified: ${\n",
              "            file.lastModifiedDate ? file.lastModifiedDate.toLocaleDateString() :\n",
              "                                    'n/a'} - `));\n",
              "    const percent = span('0% done');\n",
              "    li.appendChild(percent);\n",
              "\n",
              "    outputElement.appendChild(li);\n",
              "\n",
              "    const fileDataPromise = new Promise((resolve) => {\n",
              "      const reader = new FileReader();\n",
              "      reader.onload = (e) => {\n",
              "        resolve(e.target.result);\n",
              "      };\n",
              "      reader.readAsArrayBuffer(file);\n",
              "    });\n",
              "    // Wait for the data to be ready.\n",
              "    let fileData = yield {\n",
              "      promise: fileDataPromise,\n",
              "      response: {\n",
              "        action: 'continue',\n",
              "      }\n",
              "    };\n",
              "\n",
              "    // Use a chunked sending to avoid message size limits. See b/62115660.\n",
              "    let position = 0;\n",
              "    do {\n",
              "      const length = Math.min(fileData.byteLength - position, MAX_PAYLOAD_SIZE);\n",
              "      const chunk = new Uint8Array(fileData, position, length);\n",
              "      position += length;\n",
              "\n",
              "      const base64 = btoa(String.fromCharCode.apply(null, chunk));\n",
              "      yield {\n",
              "        response: {\n",
              "          action: 'append',\n",
              "          file: file.name,\n",
              "          data: base64,\n",
              "        },\n",
              "      };\n",
              "\n",
              "      let percentDone = fileData.byteLength === 0 ?\n",
              "          100 :\n",
              "          Math.round((position / fileData.byteLength) * 100);\n",
              "      percent.textContent = `${percentDone}% done`;\n",
              "\n",
              "    } while (position < fileData.byteLength);\n",
              "  }\n",
              "\n",
              "  // All done.\n",
              "  yield {\n",
              "    response: {\n",
              "      action: 'complete',\n",
              "    }\n",
              "  };\n",
              "}\n",
              "\n",
              "scope.google = scope.google || {};\n",
              "scope.google.colab = scope.google.colab || {};\n",
              "scope.google.colab._files = {\n",
              "  _uploadFiles,\n",
              "  _uploadFilesContinue,\n",
              "};\n",
              "})(self);\n",
              "</script> "
            ]
          },
          "metadata": {}
        },
        {
          "output_type": "stream",
          "name": "stdout",
          "text": [
            "Saving concrete(1).csv to concrete(1) (1).csv\n"
          ]
        }
      ],
      "source": [
        "from google.colab import files\n",
        "uploads = files.upload()"
      ]
    },
    {
      "cell_type": "code",
      "source": [
        "data = pd.read_csv('concrete(1).csv')\n",
        "#data"
      ],
      "metadata": {
        "id": "8kX2_W9z1Frw"
      },
      "execution_count": 70,
      "outputs": []
    },
    {
      "cell_type": "code",
      "source": [
        "x = data.loc[:,'cement':'age'].values\n",
        "y = data['strength'].values"
      ],
      "metadata": {
        "id": "iz444YayITIr"
      },
      "execution_count": 38,
      "outputs": []
    },
    {
      "cell_type": "markdown",
      "source": [
        "## Question 1"
      ],
      "metadata": {
        "id": "HV4pp_F2iZ6v"
      }
    },
    {
      "cell_type": "code",
      "source": [
        "# Gaussian Kernel\n",
        "def Gaussian(w):\n",
        "  return np.where(w>4,0,1/(np.sqrt(2*np.pi))*np.exp(-1/2*w**2))\n",
        "\n",
        "# Tricubic Kernel\n",
        "def Tricubic(w):\n",
        "  return np.where(w>1,0,70/81*(1-w**3)**3)\n",
        "\n",
        "# Quartic Kernel\n",
        "def Quartic(w):\n",
        "  return np.where(w>1,0,15/16*(1-w**2)**2)\n",
        "\n",
        "# Epanechnikov Kernel\n",
        "def Epanechnikov(w):\n",
        "  return np.where(w>1,0,3/4*(1-w**2))"
      ],
      "metadata": {
        "id": "8uiQzZjK2R3B"
      },
      "execution_count": 39,
      "outputs": []
    },
    {
      "cell_type": "code",
      "source": [
        "# not sure if these will be needed\n",
        "def dist(u,v):\n",
        "  D = []\n",
        "  if len(v.shape)==1:\n",
        "    v = v.reshape(1,-1)\n",
        "  for row in v:\n",
        "    D.append(np.sqrt(np.sum((u-row)**2,axis=1)))\n",
        "  return np.array(D).T"
      ],
      "metadata": {
        "id": "-iw-Iyw-2nVM"
      },
      "execution_count": 40,
      "outputs": []
    },
    {
      "cell_type": "code",
      "source": [
        "def kernel_function(xi,x0,kern, tau):\n",
        "    return kern(dist(xi,x0)/(2*tau))"
      ],
      "metadata": {
        "id": "0wyshv8q2eH6"
      },
      "execution_count": 41,
      "outputs": []
    },
    {
      "cell_type": "code",
      "source": [
        "def weight_function(u,v,kern=Gaussian,tau=0.5):\n",
        "    return kern(dist(u,v)/(2*tau))"
      ],
      "metadata": {
        "id": "Je48AXgs9kTr"
      },
      "execution_count": 42,
      "outputs": []
    },
    {
      "cell_type": "code",
      "source": [
        "class Lowess:\n",
        "    def __init__(self, kernel = Gaussian, tau=0.05):\n",
        "        self.kernel = kernel\n",
        "        self.tau = tau\n",
        "\n",
        "    def fit(self, x, y):\n",
        "        kernel = self.kernel\n",
        "        tau = self.tau\n",
        "        self.xtrain_ = x\n",
        "        self.yhat_ = y\n",
        "\n",
        "    def predict(self, x_new):\n",
        "        check_is_fitted(self)\n",
        "        x = self.xtrain_\n",
        "        y = self.yhat_\n",
        "        lm = linear_model.Ridge(alpha=0.001)\n",
        "        w = weight_function(x,x_new,self.kernel,self.tau)\n",
        "\n",
        "        if np.isscalar(x_new):\n",
        "          lm.fit(np.diag(w)@(x.reshape(-1,1)),np.diag(w)@(y.reshape(-1,1)))\n",
        "          yest = lm.predict([[x_new]])[0][0]\n",
        "        else:\n",
        "          n = len(x_new)\n",
        "          yest_test = np.zeros(n)\n",
        "          #Looping through all x-points\n",
        "          for i in range(n):\n",
        "            lm.fit(np.diag(w[:,i])@x,np.diag(w[:,i])@y)\n",
        "            yest_test[i] = lm.predict(x_new[i].reshape(1,-1))\n",
        "        return yest_test"
      ],
      "metadata": {
        "id": "Afjo1_3vnycd"
      },
      "execution_count": 45,
      "outputs": []
    },
    {
      "cell_type": "code",
      "source": [
        "scaler = QuantileTransformer()"
      ],
      "metadata": {
        "id": "oORfXEXRIz0c"
      },
      "execution_count": 46,
      "outputs": []
    },
    {
      "cell_type": "code",
      "source": [
        "class GradBoost:\n",
        "      def __init__(self, model=Lowess, scaler = scaler, kernel = Gaussian, tau=0.05, iterations = 1):\n",
        "        self.kernel = kernel\n",
        "        self.tau = tau\n",
        "        self.model = model\n",
        "        self.iterations = iterations\n",
        "        self.scaler = scaler\n",
        "\n",
        "      # do I need an intercept\n",
        "      def fit(self, x, y):\n",
        "        if self.scaler:\n",
        "          self.X = self.scaler.fit_transform(x)\n",
        "          self.Y = y.reshape(-1,1)\n",
        "        else:\n",
        "          self.X = x\n",
        "          self.Y = y\n",
        "\n",
        "      def is_fitted(self):\n",
        "          try:\n",
        "            if self.X.any() and self.Y.any():\n",
        "              return True\n",
        "            else:\n",
        "              return False\n",
        "          except:\n",
        "            raise Exception('Data must be fitted for you to predict')\n",
        "\n",
        "      def predict(self, x_new, iterations):\n",
        "        if self.is_fitted():\n",
        "          pass\n",
        "        else:\n",
        "          raise Exception('Data must be fitted for you to predict')\n",
        "        output = np.zeros((iterations, x_new.shape[0]))\n",
        "        for i in range(self.iterations):\n",
        "          model1 = self.model(tau=self.tau,kernel=self.kernel)\n",
        "          model1.fit(self.X, self.Y)\n",
        "          model2 = self.model(tau=self.tau,kernel=self.kernel)\n",
        "          model2.fit(self.X, self.Y)\n",
        "          residuals1 = self.Y - model1.predict(x_new = self.X).reshape(-1,1)\n",
        "          model2.fit(self.X,residuals1)\n",
        "          output[i] = np.add(model1.predict(x_new), model2.predict(x_new))\n",
        "        return output\n"
      ],
      "metadata": {
        "id": "Zp_wTuFS9mqH"
      },
      "execution_count": 47,
      "outputs": []
    },
    {
      "cell_type": "code",
      "source": [
        "mse_gradboost = []\n",
        "mse_xgboost = []\n",
        "\n",
        "kf = KFold(n_splits=10,shuffle=True,random_state=1234)\n",
        "scaler = QuantileTransformer(n_quantiles = 70)\n",
        "kerneluse = Quartic\n",
        "iterations = 1\n",
        "\n",
        "for tau in np.linspace(0.5, 0.625, 5):\n",
        "  #print('tau is: ', tau)\n",
        "  gradboost = GradBoost(scaler=scaler, kernel=kerneluse,tau=tau, iterations=iterations)\n",
        "  model_xgboost = xgboost.XGBRFRegressor(n_estimators=200,max_depth=7)\n",
        "  for idxtrain, idxtest in kf.split(x):\n",
        "    xtrain = x[idxtrain]\n",
        "    ytrain = y[idxtrain]\n",
        "    ytest = y[idxtest]\n",
        "    xtest = x[idxtest]\n",
        "    xtrain = scaler.fit_transform(xtrain)\n",
        "    xtest = scaler.transform(xtest)\n",
        "\n",
        "\n",
        "    gradboost.fit(xtrain,ytrain)\n",
        "    yhat_gb = gradboost.predict(xtest, iterations=1)\n",
        "    y_test = np.repeat(ytest,iterations)\n",
        "    mse_gradboost.append(mse(y_test, yhat_gb.flatten()))\n",
        "    #print('the mse for gradboost is: ', mse(ytest, yhat_gb.flatten()))\n",
        "\n",
        "    model_xgboost.fit(xtrain,ytrain)\n",
        "    mse_xgboost.append(mse(ytest,model_xgboost.predict(xtest)))\n",
        "\n",
        "print('The Average Cross-validated Mean Squared Error for Gradiant Boosted Lowess is : '+str(np.mean(mse_gradboost))+\n",
        "      ' with a Quartic kernel and a Quantile Transformer and a Tau between 0.5 and 0.625')\n",
        "print('The Average Cross-validated Mean Squared Error for XGBoost is : '+str(np.mean(mse_xgboost)))"
      ],
      "metadata": {
        "colab": {
          "base_uri": "https://localhost:8080/"
        },
        "id": "oi0nLBTo6Sod",
        "outputId": "8615e97a-489c-4de4-d5de-358cb5b5d18a"
      },
      "execution_count": 69,
      "outputs": [
        {
          "output_type": "stream",
          "name": "stdout",
          "text": [
            "tau is:  0.5\n",
            "tau is:  0.53125\n",
            "tau is:  0.5625\n",
            "tau is:  0.59375\n",
            "tau is:  0.625\n",
            "The Average Cross-validated Mean Squared Error for Gradiant Boosted Lowess is : 26.218138327075152with a Quartic kernel and a Quantile Transformer and a Tau between 0.5 and 0.625\n",
            "The Average Cross-validated Mean Squared Error for XGBoost is : 31.45365385676951\n"
          ]
        }
      ]
    },
    {
      "cell_type": "markdown",
      "source": [
        "## Question 2"
      ],
      "metadata": {
        "id": "wgHhn_S9C1Bc"
      }
    },
    {
      "cell_type": "code",
      "source": [
        "class UsearchKNN:\n",
        "\n",
        "  def __init__(self, n_neighbors =10, scaler = StandardScaler()):\n",
        "    self.k = n_neighbors\n",
        "    self.scaler = scaler\n",
        "\n",
        "  def fit(self,X,y):\n",
        "    if self.scaler:\n",
        "      self.X = self.scaler.fit_transform(X)\n",
        "      self.y = y\n",
        "\n",
        "    else:\n",
        "      self.X = X\n",
        "      self.y = y\n",
        "\n",
        "  def is_fitted(self):\n",
        "    try:\n",
        "      if self.X.any():\n",
        "        return True\n",
        "      else:\n",
        "        return False\n",
        "    except:\n",
        "        raise Exception('Data must be fitted before predicting')\n",
        "\n",
        "  def n_nearest_points(self):\n",
        "    n = self.X.shape[0]\n",
        "    points = {}\n",
        "\n",
        "    for i, test_point in enumerate(self.X):\n",
        "      shortest = {}\n",
        "      distances = search(self.X, test_point, n, MetricKind.L2sq, exact=True).distances\n",
        "      indices = search(self.X, test_point,n, MetricKind.L2sq, exact=True).keys\n",
        "      for idx, distance in enumerate(points[1:self.k]):\n",
        "        shortest[indices[idx+1]] = distance\n",
        "      points[i] = shortest\n",
        "\n",
        "    return points\n",
        "\n",
        "  def predict(self, xnew):\n",
        "    if self.scaler:\n",
        "      xnew = self.scaler.fit_transform(xnew)\n",
        "\n",
        "    n = xnew.shape[0]\n",
        "\n",
        "    y_pred = np.ndarray((n,1))\n",
        "    for i in range(len(xnew)):\n",
        "      for row in xnew:\n",
        "        distances = search(self.X, row,self.k, MetricKind.L2sq, exact=True).distances\n",
        "        indices = search(self.X, row, self.k,MetricKind.L2sq, exact=True).keys\n",
        "        weights = (1/(distances))\n",
        "        ypred = weights@y[indices].reshape(-1,1)/np.sum(weights)\n",
        "        y_pred[i] = ypred\n",
        "\n",
        "    return y_pred"
      ],
      "metadata": {
        "id": "JxLDHOWMR_xg"
      },
      "execution_count": 130,
      "outputs": []
    },
    {
      "cell_type": "code",
      "source": [
        "usearchknn = UsearchKNN(n_neighbors = 10, scaler= StandardScaler())\n",
        "defaultknn = KNeighborsRegressor(n_neighbors=10)\n",
        "usearchmses = []\n",
        "defaultmses = []\n",
        "\n",
        "\n",
        "X_train, X_test, y_train, y_test = train_test_split(x,y, test_size = 0.25, random_state =50)\n",
        "kfold = KFold(n_splits = 10, shuffle=True, random_state = 50)\n",
        "for idxtrain, idxtest in kf.split(x):\n",
        "  X_train = x[idxtrain]\n",
        "  y_train = y[idxtrain]\n",
        "  y_test = y[idxtest]\n",
        "  X_test = x[idxtest]\n",
        "\n",
        "  usearchknn.fit(X_train, y_train)\n",
        "  defaultknn.fit(X_train, y_train)\n",
        "  ypred1 = usearchknn.predict(X_test)\n",
        "  ypred2 = defaultknn.predict(X_test)\n",
        "\n",
        "  usearchmses.append(mse(y_test, ypred1))\n",
        "  defaultmses.append(mse(y_test, ypred2))\n",
        "\n",
        "print('the mean mse for my Usearch KNN is : ' , np.mean(usearchmses))\n",
        "print('The mean mse for the default KNN is : ',  np.mean(defaultmses))\n",
        "\n"
      ],
      "metadata": {
        "colab": {
          "base_uri": "https://localhost:8080/"
        },
        "id": "XjUjnvCRV4mc",
        "outputId": "11d6d2ae-91ba-4ec9-fda9-c45dc472d7f6"
      },
      "execution_count": 135,
      "outputs": [
        {
          "output_type": "stream",
          "name": "stdout",
          "text": [
            "the mean mse for my Usearch KNN is :  432.9882368100819\n",
            "The mean mse for the default KNN is :  89.87481322621359\n"
          ]
        }
      ]
    },
    {
      "cell_type": "markdown",
      "source": [
        " (1 point) Host your project on your GitHiub page."
      ],
      "metadata": {
        "id": "1idCgNWvDE0n"
      }
    },
    {
      "cell_type": "code",
      "source": [],
      "metadata": {
        "id": "-d-VFWSzDFZr"
      },
      "execution_count": null,
      "outputs": []
    }
  ]
}