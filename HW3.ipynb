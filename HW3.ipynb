{
  "nbformat": 4,
  "nbformat_minor": 0,
  "metadata": {
    "colab": {
      "provenance": []
    },
    "kernelspec": {
      "name": "python3",
      "display_name": "Python 3"
    },
    "language_info": {
      "name": "python"
    }
  },
  "cells": [
    {
      "cell_type": "code",
      "execution_count": null,
      "metadata": {
        "id": "ts9BplZ2UJo_"
      },
      "outputs": [],
      "source": [
        "import torch\n",
        "import torch.nn as nn\n",
        "import torch.optim as optim\n",
        "import pandas as pd\n",
        "import numpy as np\n",
        "from sklearn.model_selection import train_test_split as tts\n",
        "from sklearn.linear_model import ElasticNet\n",
        "from scipy.linalg import toeplitz\n",
        "from sklearn.metrics import mean_squared_error as mse\n",
        "import warnings\n",
        "warnings.filterwarnings('ignore')"
      ]
    },
    {
      "cell_type": "code",
      "source": [
        "device = torch.device(\"cpu\")\n",
        "dtype = torch.float64"
      ],
      "metadata": {
        "id": "kyx4krFFVzhP"
      },
      "execution_count": null,
      "outputs": []
    },
    {
      "cell_type": "code",
      "source": [
        "from google.colab import files\n",
        "uploads = files.upload()"
      ],
      "metadata": {
        "colab": {
          "base_uri": "https://localhost:8080/",
          "height": 73
        },
        "id": "bN4lPLfqFIea",
        "outputId": "fa7e245d-dfba-44cb-e58a-758438e9f47f"
      },
      "execution_count": null,
      "outputs": [
        {
          "output_type": "display_data",
          "data": {
            "text/plain": [
              "<IPython.core.display.HTML object>"
            ],
            "text/html": [
              "\n",
              "     <input type=\"file\" id=\"files-cd555b1b-7524-404c-af28-21cc004f97a5\" name=\"files[]\" multiple disabled\n",
              "        style=\"border:none\" />\n",
              "     <output id=\"result-cd555b1b-7524-404c-af28-21cc004f97a5\">\n",
              "      Upload widget is only available when the cell has been executed in the\n",
              "      current browser session. Please rerun this cell to enable.\n",
              "      </output>\n",
              "      <script>// Copyright 2017 Google LLC\n",
              "//\n",
              "// Licensed under the Apache License, Version 2.0 (the \"License\");\n",
              "// you may not use this file except in compliance with the License.\n",
              "// You may obtain a copy of the License at\n",
              "//\n",
              "//      http://www.apache.org/licenses/LICENSE-2.0\n",
              "//\n",
              "// Unless required by applicable law or agreed to in writing, software\n",
              "// distributed under the License is distributed on an \"AS IS\" BASIS,\n",
              "// WITHOUT WARRANTIES OR CONDITIONS OF ANY KIND, either express or implied.\n",
              "// See the License for the specific language governing permissions and\n",
              "// limitations under the License.\n",
              "\n",
              "/**\n",
              " * @fileoverview Helpers for google.colab Python module.\n",
              " */\n",
              "(function(scope) {\n",
              "function span(text, styleAttributes = {}) {\n",
              "  const element = document.createElement('span');\n",
              "  element.textContent = text;\n",
              "  for (const key of Object.keys(styleAttributes)) {\n",
              "    element.style[key] = styleAttributes[key];\n",
              "  }\n",
              "  return element;\n",
              "}\n",
              "\n",
              "// Max number of bytes which will be uploaded at a time.\n",
              "const MAX_PAYLOAD_SIZE = 100 * 1024;\n",
              "\n",
              "function _uploadFiles(inputId, outputId) {\n",
              "  const steps = uploadFilesStep(inputId, outputId);\n",
              "  const outputElement = document.getElementById(outputId);\n",
              "  // Cache steps on the outputElement to make it available for the next call\n",
              "  // to uploadFilesContinue from Python.\n",
              "  outputElement.steps = steps;\n",
              "\n",
              "  return _uploadFilesContinue(outputId);\n",
              "}\n",
              "\n",
              "// This is roughly an async generator (not supported in the browser yet),\n",
              "// where there are multiple asynchronous steps and the Python side is going\n",
              "// to poll for completion of each step.\n",
              "// This uses a Promise to block the python side on completion of each step,\n",
              "// then passes the result of the previous step as the input to the next step.\n",
              "function _uploadFilesContinue(outputId) {\n",
              "  const outputElement = document.getElementById(outputId);\n",
              "  const steps = outputElement.steps;\n",
              "\n",
              "  const next = steps.next(outputElement.lastPromiseValue);\n",
              "  return Promise.resolve(next.value.promise).then((value) => {\n",
              "    // Cache the last promise value to make it available to the next\n",
              "    // step of the generator.\n",
              "    outputElement.lastPromiseValue = value;\n",
              "    return next.value.response;\n",
              "  });\n",
              "}\n",
              "\n",
              "/**\n",
              " * Generator function which is called between each async step of the upload\n",
              " * process.\n",
              " * @param {string} inputId Element ID of the input file picker element.\n",
              " * @param {string} outputId Element ID of the output display.\n",
              " * @return {!Iterable<!Object>} Iterable of next steps.\n",
              " */\n",
              "function* uploadFilesStep(inputId, outputId) {\n",
              "  const inputElement = document.getElementById(inputId);\n",
              "  inputElement.disabled = false;\n",
              "\n",
              "  const outputElement = document.getElementById(outputId);\n",
              "  outputElement.innerHTML = '';\n",
              "\n",
              "  const pickedPromise = new Promise((resolve) => {\n",
              "    inputElement.addEventListener('change', (e) => {\n",
              "      resolve(e.target.files);\n",
              "    });\n",
              "  });\n",
              "\n",
              "  const cancel = document.createElement('button');\n",
              "  inputElement.parentElement.appendChild(cancel);\n",
              "  cancel.textContent = 'Cancel upload';\n",
              "  const cancelPromise = new Promise((resolve) => {\n",
              "    cancel.onclick = () => {\n",
              "      resolve(null);\n",
              "    };\n",
              "  });\n",
              "\n",
              "  // Wait for the user to pick the files.\n",
              "  const files = yield {\n",
              "    promise: Promise.race([pickedPromise, cancelPromise]),\n",
              "    response: {\n",
              "      action: 'starting',\n",
              "    }\n",
              "  };\n",
              "\n",
              "  cancel.remove();\n",
              "\n",
              "  // Disable the input element since further picks are not allowed.\n",
              "  inputElement.disabled = true;\n",
              "\n",
              "  if (!files) {\n",
              "    return {\n",
              "      response: {\n",
              "        action: 'complete',\n",
              "      }\n",
              "    };\n",
              "  }\n",
              "\n",
              "  for (const file of files) {\n",
              "    const li = document.createElement('li');\n",
              "    li.append(span(file.name, {fontWeight: 'bold'}));\n",
              "    li.append(span(\n",
              "        `(${file.type || 'n/a'}) - ${file.size} bytes, ` +\n",
              "        `last modified: ${\n",
              "            file.lastModifiedDate ? file.lastModifiedDate.toLocaleDateString() :\n",
              "                                    'n/a'} - `));\n",
              "    const percent = span('0% done');\n",
              "    li.appendChild(percent);\n",
              "\n",
              "    outputElement.appendChild(li);\n",
              "\n",
              "    const fileDataPromise = new Promise((resolve) => {\n",
              "      const reader = new FileReader();\n",
              "      reader.onload = (e) => {\n",
              "        resolve(e.target.result);\n",
              "      };\n",
              "      reader.readAsArrayBuffer(file);\n",
              "    });\n",
              "    // Wait for the data to be ready.\n",
              "    let fileData = yield {\n",
              "      promise: fileDataPromise,\n",
              "      response: {\n",
              "        action: 'continue',\n",
              "      }\n",
              "    };\n",
              "\n",
              "    // Use a chunked sending to avoid message size limits. See b/62115660.\n",
              "    let position = 0;\n",
              "    do {\n",
              "      const length = Math.min(fileData.byteLength - position, MAX_PAYLOAD_SIZE);\n",
              "      const chunk = new Uint8Array(fileData, position, length);\n",
              "      position += length;\n",
              "\n",
              "      const base64 = btoa(String.fromCharCode.apply(null, chunk));\n",
              "      yield {\n",
              "        response: {\n",
              "          action: 'append',\n",
              "          file: file.name,\n",
              "          data: base64,\n",
              "        },\n",
              "      };\n",
              "\n",
              "      let percentDone = fileData.byteLength === 0 ?\n",
              "          100 :\n",
              "          Math.round((position / fileData.byteLength) * 100);\n",
              "      percent.textContent = `${percentDone}% done`;\n",
              "\n",
              "    } while (position < fileData.byteLength);\n",
              "  }\n",
              "\n",
              "  // All done.\n",
              "  yield {\n",
              "    response: {\n",
              "      action: 'complete',\n",
              "    }\n",
              "  };\n",
              "}\n",
              "\n",
              "scope.google = scope.google || {};\n",
              "scope.google.colab = scope.google.colab || {};\n",
              "scope.google.colab._files = {\n",
              "  _uploadFiles,\n",
              "  _uploadFilesContinue,\n",
              "};\n",
              "})(self);\n",
              "</script> "
            ]
          },
          "metadata": {}
        },
        {
          "output_type": "stream",
          "name": "stdout",
          "text": [
            "Saving cars.csv to cars.csv\n"
          ]
        }
      ]
    },
    {
      "cell_type": "code",
      "source": [
        "data = pd.read_csv('cars.csv')"
      ],
      "metadata": {
        "id": "OdPx1IFwFVKO"
      },
      "execution_count": null,
      "outputs": []
    },
    {
      "cell_type": "markdown",
      "source": [
        "## Question 1"
      ],
      "metadata": {
        "id": "wdl7hSflC0R2"
      }
    },
    {
      "cell_type": "code",
      "source": [
        "class SCADLinear(nn.Module):\n",
        "    def __init__(self, input_size, alpha=3.7, lambda_val=0.1):\n",
        "        super(SCADLinear, self).__init__()\n",
        "        self.linear = nn.Linear(input_size, 1,bias=False, device=device,dtype=dtype)\n",
        "        self.alpha = alpha\n",
        "        self.lambda_val = lambda_val\n",
        "\n",
        "    def forward(self, x):\n",
        "        return self.linear(x)\n",
        "\n",
        "    def get_coefficients(self):\n",
        "      return self.linear.weight\n",
        "\n",
        "    def scad_penalty(self, params):\n",
        "        penalty = torch.tensor(0.)\n",
        "        for param in params:\n",
        "            penalty += self.scad(param)\n",
        "        return penalty\n",
        "\n",
        "    def scad(self, beta):\n",
        "      beta = torch.abs(beta)\n",
        "      # element wise comparisons will evaluate the conditions for each element\n",
        "      condition1 = beta <= self.lambda_val\n",
        "      condition2 = (beta >= self.lambda_val) & (beta <= self.alpha * self.lambda_val)\n",
        "      condition3 = beta >= self.alpha * self.lambda_val\n",
        "      penalty = torch.zeros_like(beta)\n",
        "      # penalty terms according to Kim et al and Andrew Charles\n",
        "      penalty += torch.where(condition1.detach(), self.lambda_val * beta, torch.zeros_like(beta))\n",
        "      penalty += torch.where(condition2.detach(), ((self.alpha * self.lambda_val * (beta - self.lambda_val)) - 0.5 * (\n",
        "          beta ** 2 - self.lambda_val ** 2)) / (self.alpha - 1), torch.zeros_like(beta))\n",
        "      penalty += torch.where(condition3.detach(), ((0.5 * (self.alpha - 1) * self.lambda_val ** 2) +\n",
        "                                                   self.lambda_val **2), torch.zeros_like(beta))\n",
        "      return penalty.sum()\n",
        "\n",
        "    def fit(self, x, y, num_epochs=1000, lr=0.001):\n",
        "        optimizer = optim.Adam(self.parameters(), lr=lr)\n",
        "        for epoch in range(num_epochs):\n",
        "            optimizer.zero_grad()\n",
        "            output = self.forward(x)\n",
        "            mse_loss = nn.functional.mse_loss(output, y)\n",
        "            reg_loss = self.scad_penalty(self.parameters())\n",
        "            loss = mse_loss + reg_loss\n",
        "            loss.backward()\n",
        "            optimizer.step()\n",
        "            if epoch % 100 == 0:\n",
        "                print(f\"Epoch {epoch}, Loss: {loss.item()}\")\n",
        "\n",
        "    def predict(self, x):\n",
        "        with torch.no_grad():\n",
        "            return self.forward(x)\n"
      ],
      "metadata": {
        "id": "qjK_RxVcrZl1"
      },
      "execution_count": null,
      "outputs": []
    },
    {
      "cell_type": "code",
      "source": [
        "x = data.loc[:,'CYL':'WGT'].values\n",
        "y = data['MPG'].values\n",
        "X = torch.from_numpy(x)\n",
        "y = torch.from_numpy(y)\n",
        "\n",
        "x_train, x_test, y_train, y_test = tts(X, y, test_size=0.2, random_state=1693)\n",
        "\n",
        "model = SCADLinear(input_size=x_train.shape[1], lambda_val=0.1, alpha=3)\n",
        "model.fit(x_train, y_train)\n",
        "\n",
        "y_pred = model.predict(x_test.unsqueeze(0))\n",
        "mse = nn.functional.mse_loss(y_pred, y_test)\n",
        "print('The mean mse is:', mse.item())\n",
        "#print(\"Predicted values:\", y_pred)\n",
        "\n",
        "print(model.get_coefficients())"
      ],
      "metadata": {
        "colab": {
          "base_uri": "https://localhost:8080/"
        },
        "id": "h5RDgtZs2JmL",
        "outputId": "e2b4c9a9-82e2-4458-c390-7ddabc0cbd86"
      },
      "execution_count": null,
      "outputs": [
        {
          "output_type": "stream",
          "name": "stdout",
          "text": [
            "Epoch 0, Loss: 668248.0878371521\n",
            "Epoch 100, Loss: 261212.84540602553\n",
            "Epoch 200, Loss: 80978.27876054416\n",
            "Epoch 300, Loss: 19981.010602177164\n",
            "Epoch 400, Loss: 4780.678353658208\n",
            "Epoch 500, Loss: 2045.5576022751945\n",
            "Epoch 600, Loss: 1682.0732268097433\n",
            "Epoch 700, Loss: 1634.5365815335845\n",
            "Epoch 800, Loss: 1615.5775521371183\n",
            "Epoch 900, Loss: 1597.2302824522887\n",
            "The mean mse is: 1657.011997832451\n",
            "Parameter containing:\n",
            "tensor([[ 0.07,  0.62, -0.04]], dtype=torch.float64, requires_grad=True)\n"
          ]
        }
      ]
    },
    {
      "cell_type": "markdown",
      "source": [
        "## Question 2"
      ],
      "metadata": {
        "id": "xBdywchtC_2h"
      }
    },
    {
      "cell_type": "code",
      "source": [
        "class ElasticNet(nn.Module):\n",
        "    def __init__(self, input_size, alpha=1.0, l1_ratio=0.5):\n",
        "        super(ElasticNet, self).__init__()\n",
        "        self.input_size = input_size\n",
        "        self.alpha = alpha\n",
        "        self.l1_ratio = l1_ratio\n",
        "\n",
        "        # Define the linear regression layer\n",
        "        self.linear = nn.Linear(input_size, 1,bias=False,device=device,dtype=dtype)\n",
        "\n",
        "    def forward(self, x):\n",
        "      return self.linear(x)\n",
        "\n",
        "    def loss(self, y_pred, y_true):\n",
        "        mse_loss = nn.MSELoss()(y_pred, y_true)\n",
        "        l1_reg = torch.norm(self.linear.weight, p=1)\n",
        "        l2_reg = torch.norm(self.linear.weight, p=2)\n",
        "\n",
        "        objective = (1/2) * mse_loss + self.alpha * (\n",
        "            self.l1_ratio * l1_reg + (1 - self.l1_ratio) * (1/2)*l2_reg**2)\n",
        "\n",
        "        return objective\n",
        "\n",
        "    def fit(self, X, y, num_epochs=100, learning_rate=0.01):\n",
        "        optimizer = optim.SGD(self.parameters(), lr=learning_rate)\n",
        "\n",
        "        for epoch in range(num_epochs):\n",
        "            self.train()\n",
        "            optimizer.zero_grad()\n",
        "            y_pred = self(X)\n",
        "            loss = self.loss(y_pred, y)\n",
        "            loss.backward()\n",
        "            optimizer.step()\n",
        "\n",
        "            if (epoch + 1) % 100 == 0:\n",
        "                print(f\"Epoch [{epoch + 1}/{num_epochs}], Loss: {loss.item()}\")\n",
        "\n",
        "    def predict(self, X):\n",
        "        self.eval()\n",
        "        with torch.no_grad():\n",
        "            y_pred = self(X)\n",
        "            return y_pred\n",
        "    def get_coefficients(self):\n",
        "        return self.linear.weight\n"
      ],
      "metadata": {
        "id": "vy5zjuixO5-c"
      },
      "execution_count": null,
      "outputs": []
    },
    {
      "cell_type": "code",
      "source": [
        "class SqrtLasso(nn.Module):\n",
        "    def __init__(self, input_size, alpha=0.1):\n",
        "        super(SqrtLasso, self).__init__()\n",
        "        self.input_size = input_size\n",
        "        self.alpha = alpha\n",
        "\n",
        "        # Define the linear regression layer\n",
        "        self.linear = nn.Linear(input_size, 1,bias=False,device=device,dtype=dtype)\n",
        "\n",
        "    def forward(self, x):\n",
        "        return self.linear(x)\n",
        "\n",
        "    def loss(self, y_pred, y_true):\n",
        "        mse_loss = nn.MSELoss()(y_pred, y_true)\n",
        "        l1_reg = torch.norm(self.linear.weight, p=1,dtype=torch.float64)\n",
        "        # l2_reg = torch.norm(self.linear.weight, p=2,dtype=torch.float64)\n",
        "\n",
        "        loss = torch.sqrt(mse_loss) + self.alpha * (l1_reg)\n",
        "\n",
        "        return loss\n",
        "\n",
        "    def fit(self, X, y, num_epochs=200, learning_rate=0.01):\n",
        "        optimizer = optim.Adam(self.parameters(), lr=learning_rate)\n",
        "\n",
        "        for epoch in range(num_epochs):\n",
        "            self.train()\n",
        "            optimizer.zero_grad()\n",
        "            y_pred = self(X)\n",
        "            loss = self.loss(y_pred, y)\n",
        "            loss.backward()\n",
        "            optimizer.step()\n",
        "\n",
        "            if (epoch + 1) % 100 == 0:\n",
        "                print(f\"Epoch [{epoch + 1}/{num_epochs}], Loss: {loss.item()}\")\n",
        "\n",
        "    def predict(self, X):\n",
        "        self.eval()\n",
        "        with torch.no_grad():\n",
        "            y_pred = self(X)\n",
        "        return y_pred\n",
        "\n",
        "    def get_coefficients(self):\n",
        "        return self.linear.weight"
      ],
      "metadata": {
        "id": "KCYTJbEYPcNg"
      },
      "execution_count": null,
      "outputs": []
    },
    {
      "cell_type": "code",
      "source": [
        "def make_correlated_features(num_samples,p,rho):\n",
        "  vcor = []\n",
        "  for i in range(p):\n",
        "    vcor.append(rho**i)\n",
        "  r = toeplitz(vcor)\n",
        "  mu = np.repeat(0,p)\n",
        "  x = np.random.multivariate_normal(mu, r, size=num_samples)\n",
        "  return x\n",
        "\n",
        "\n",
        "rho =0.9\n",
        "p = 20\n",
        "n = 500\n",
        "vcor = []\n",
        "for i in range(p):\n",
        "  vcor.append(rho**i)\n",
        "\n",
        "x = make_correlated_features(n,p,rho)"
      ],
      "metadata": {
        "id": "eO5NvGpAWXtT"
      },
      "execution_count": null,
      "outputs": []
    },
    {
      "cell_type": "code",
      "source": [
        "# from class\n",
        "beta =np.array([10,7,4,-1,2,3,0,0,0,0,2,-1,3,2])\n",
        "beta = beta.reshape(-1,1)\n",
        "betastar = np.concatenate([beta,np.repeat(0,p-len(beta)).reshape(-1,1)],axis=0)\n",
        "y = x@betastar + 0.5*np.random.normal(size=(n,1))"
      ],
      "metadata": {
        "id": "vyGn6lS2NHBn"
      },
      "execution_count": null,
      "outputs": []
    },
    {
      "cell_type": "code",
      "source": [
        "x = torch.tensor(x,device=device)\n",
        "y = torch.tensor(y,device=device)"
      ],
      "metadata": {
        "id": "h7QOMKtxXVcH"
      },
      "execution_count": null,
      "outputs": []
    },
    {
      "cell_type": "code",
      "source": [
        "model1 = ElasticNet(input_size=x.shape[1], alpha=0.01,l1_ratio=0.5)"
      ],
      "metadata": {
        "id": "2yPYPKBfDCXE"
      },
      "execution_count": null,
      "outputs": []
    },
    {
      "cell_type": "code",
      "source": [
        "model1.fit(x,y)\n",
        "enet_pred = model1.predict(x)\n",
        "mse1 = nn.MSELoss()\n",
        "mse1 = mse1(enet_pred, y)\n",
        "print('The average mse for Elastic Net is:', mse1)"
      ],
      "metadata": {
        "colab": {
          "base_uri": "https://localhost:8080/"
        },
        "id": "-DOHz6gRM2up",
        "outputId": "f838ab85-40cc-4c97-f4e8-b6c9bacfbbf3"
      },
      "execution_count": null,
      "outputs": [
        {
          "output_type": "stream",
          "name": "stdout",
          "text": [
            "Epoch [100/100], Loss: 7.215653150274042\n",
            "The average mse for Elastic Net is: tensor(13.39, dtype=torch.float64)\n"
          ]
        }
      ]
    },
    {
      "cell_type": "code",
      "source": [
        "model2 = SqrtLasso(input_size=x.shape[1], alpha=0.01)\n",
        "model2.fit(x,y)\n",
        "sqlasso_pred = model2.predict(x)\n",
        "mse2 = nn.MSELoss()\n",
        "mse2 = mse2(sqlasso_pred, y)\n",
        "print('The average mse for Sqrt Lasso is:', mse2)"
      ],
      "metadata": {
        "colab": {
          "base_uri": "https://localhost:8080/"
        },
        "id": "cDx4EspzQggL",
        "outputId": "627f33a6-4450-4445-cdc2-898c777b4aa6"
      },
      "execution_count": null,
      "outputs": [
        {
          "output_type": "stream",
          "name": "stdout",
          "text": [
            "Epoch [100/200], Loss: 17.56797103847596\n",
            "Epoch [200/200], Loss: 12.437392607776381\n",
            "The average mse for Sqrt Lasso is: tensor(147.57, dtype=torch.float64)\n"
          ]
        }
      ]
    },
    {
      "cell_type": "code",
      "source": [
        "model3 = SCADLinear(input_size=x.shape[1], alpha=0.01)\n",
        "model3.fit(x,y)\n",
        "scad_pred = model3.predict(x)\n",
        "mse3 = nn.MSELoss()\n",
        "mse3 = mse3(scad_pred, y)\n",
        "print('The average mse for SCAD is:', mse3)"
      ],
      "metadata": {
        "colab": {
          "base_uri": "https://localhost:8080/"
        },
        "id": "4hVtCdKoTJbs",
        "outputId": "a8e5982d-6969-45f0-ef07-ddad258e0521"
      },
      "execution_count": null,
      "outputs": [
        {
          "output_type": "stream",
          "name": "stdout",
          "text": [
            "Epoch 0, Loss: 755.2768453041725\n",
            "Epoch 100, Loss: 688.2842688587493\n",
            "Epoch 200, Loss: 627.6500114031916\n",
            "Epoch 300, Loss: 573.2024467678683\n",
            "Epoch 400, Loss: 524.2711128304784\n",
            "Epoch 500, Loss: 480.48491041579535\n",
            "Epoch 600, Loss: 441.3794541647013\n",
            "Epoch 700, Loss: 406.5155299724952\n",
            "Epoch 800, Loss: 375.4684013422615\n",
            "Epoch 900, Loss: 347.82936440203855\n",
            "The average mse for SCAD is: tensor(323.11, dtype=torch.float64)\n"
          ]
        }
      ]
    },
    {
      "cell_type": "code",
      "source": [
        "betastar = betastar.flatten()\n",
        "betastar2 = torch.from_numpy(betastar)\n",
        "betastar2"
      ],
      "metadata": {
        "colab": {
          "base_uri": "https://localhost:8080/"
        },
        "id": "Cvv7p5hbWcS8",
        "outputId": "91ad4c52-6ed4-4783-ec84-c32f0d9616ed"
      },
      "execution_count": null,
      "outputs": [
        {
          "output_type": "execute_result",
          "data": {
            "text/plain": [
              "tensor([10,  7,  4, -1,  2,  3,  0,  0,  0,  0,  2, -1,  3,  2,  0,  0,  0,  0,\n",
              "         0,  0])"
            ]
          },
          "metadata": {},
          "execution_count": 431
        }
      ]
    },
    {
      "cell_type": "code",
      "source": [
        "enet_pred = model1.get_coefficients()\n",
        "enet_pred"
      ],
      "metadata": {
        "colab": {
          "base_uri": "https://localhost:8080/"
        },
        "id": "K3hQubK4Yvz8",
        "outputId": "634573f1-e905-4ad7-b7b3-b38571a44b91"
      },
      "execution_count": null,
      "outputs": [
        {
          "output_type": "execute_result",
          "data": {
            "text/plain": [
              "Parameter containing:\n",
              "tensor([[ 6.25,  5.67,  4.18,  2.68,  2.35,  1.94,  1.12,  0.56,  0.65,  0.38,\n",
              "          0.95,  0.70,  0.99,  1.12,  0.34,  0.30,  0.40, -0.01, -0.14, -0.17]],\n",
              "       dtype=torch.float64, requires_grad=True)"
            ]
          },
          "metadata": {},
          "execution_count": 432
        }
      ]
    },
    {
      "cell_type": "code",
      "source": [
        "sqlasso_pred = model2.get_coefficients()\n",
        "sqlasso_pred"
      ],
      "metadata": {
        "colab": {
          "base_uri": "https://localhost:8080/"
        },
        "id": "xluxg93vY4_y",
        "outputId": "936e5755-36c6-4ad9-e07e-b932af5baa30"
      },
      "execution_count": null,
      "outputs": [
        {
          "output_type": "execute_result",
          "data": {
            "text/plain": [
              "Parameter containing:\n",
              "tensor([[ 1.93,  1.98,  1.74,  1.72,  2.00,  1.84,  1.47,  1.47,  1.47,  1.56,\n",
              "          1.29,  1.47,  1.13,  1.19,  0.75,  0.53,  0.70,  0.28,  0.50, -0.17]],\n",
              "       dtype=torch.float64, requires_grad=True)"
            ]
          },
          "metadata": {},
          "execution_count": 433
        }
      ]
    },
    {
      "cell_type": "code",
      "source": [
        "scad_pred = model3.get_coefficients()\n",
        "scad_pred"
      ],
      "metadata": {
        "colab": {
          "base_uri": "https://localhost:8080/"
        },
        "id": "ciJNVkTzY-4X",
        "outputId": "b8ee1c40-9ab0-46f3-fa8a-ebfaef6cb9ab"
      },
      "execution_count": null,
      "outputs": [
        {
          "output_type": "execute_result",
          "data": {
            "text/plain": [
              "Parameter containing:\n",
              "tensor([[0.81, 0.73, 1.12, 0.89, 1.10, 0.69, 0.84, 1.06, 0.69, 0.92, 0.74, 0.96,\n",
              "         0.78, 1.01, 0.54, 0.67, 0.57, 0.49, 0.80, 0.43]], dtype=torch.float64,\n",
              "       requires_grad=True)"
            ]
          },
          "metadata": {},
          "execution_count": 434
        }
      ]
    },
    {
      "cell_type": "code",
      "source": [
        "torch.set_printoptions(precision=2)\n",
        "torch.stack([enet_pred[0], sqlasso_pred[0], scad_pred[0], betastar2])"
      ],
      "metadata": {
        "colab": {
          "base_uri": "https://localhost:8080/"
        },
        "id": "cRzYDLclV-If",
        "outputId": "9a4da71c-4ba1-4c6f-f92f-98b9acd0c4dc"
      },
      "execution_count": null,
      "outputs": [
        {
          "output_type": "execute_result",
          "data": {
            "text/plain": [
              "tensor([[ 6.25,  5.67,  4.18,  2.68,  2.35,  1.94,  1.12,  0.56,  0.65,  0.38,\n",
              "          0.95,  0.70,  0.99,  1.12,  0.34,  0.30,  0.40, -0.01, -0.14, -0.17],\n",
              "        [ 1.93,  1.98,  1.74,  1.72,  2.00,  1.84,  1.47,  1.47,  1.47,  1.56,\n",
              "          1.29,  1.47,  1.13,  1.19,  0.75,  0.53,  0.70,  0.28,  0.50, -0.17],\n",
              "        [ 0.81,  0.73,  1.12,  0.89,  1.10,  0.69,  0.84,  1.06,  0.69,  0.92,\n",
              "          0.74,  0.96,  0.78,  1.01,  0.54,  0.67,  0.57,  0.49,  0.80,  0.43],\n",
              "        [10.00,  7.00,  4.00, -1.00,  2.00,  3.00,  0.00,  0.00,  0.00,  0.00,\n",
              "          2.00, -1.00,  3.00,  2.00,  0.00,  0.00,  0.00,  0.00,  0.00,  0.00]],\n",
              "       dtype=torch.float64, grad_fn=<StackBackward0>)"
            ]
          },
          "metadata": {},
          "execution_count": 435
        }
      ]
    }
  ]
}